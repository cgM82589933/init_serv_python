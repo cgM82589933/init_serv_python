{
 "cells": [
  {
   "cell_type": "markdown",
   "metadata": {},
   "source": [
    "## **Initialize server for virtual cloud service**\n",
    "### **by Chris Girvin**\n",
    "### **date created : 08/29/2022**\n",
    "### **date last modified : 08/29/2022**"
   ]
  },
  {
   "cell_type": "code",
   "execution_count": null,
   "metadata": {},
   "outputs": [],
   "source": [
    "import os\n",
    "import sys"
   ]
  }
 ],
 "metadata": {
  "kernelspec": {
   "display_name": "Python 3.10.4 ('init_serv_pyenv': venv)",
   "language": "python",
   "name": "python3"
  },
  "language_info": {
   "codemirror_mode": {
    "name": "ipython",
    "version": 3
   },
   "file_extension": ".py",
   "mimetype": "text/x-python",
   "name": "python",
   "nbconvert_exporter": "python",
   "pygments_lexer": "ipython3",
   "version": "3.10.4"
  },
  "orig_nbformat": 4,
  "vscode": {
   "interpreter": {
    "hash": "a882932c243d5fb688cc1ecf2cd25ede63ac5f1eff3ec383622e9324df91ec18"
   }
  }
 },
 "nbformat": 4,
 "nbformat_minor": 2
}
